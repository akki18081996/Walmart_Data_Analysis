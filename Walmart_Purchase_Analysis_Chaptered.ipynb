{
 "cells": [
  {
   "cell_type": "markdown",
   "id": "a0192559",
   "metadata": {},
   "source": [
    "# Walmart Purchase Behavior Analysis"
   ]
  },
  {
   "cell_type": "markdown",
   "id": "c700b760",
   "metadata": {},
   "source": [
    "**By Akanksha Trivedi**"
   ]
  },
  {
   "cell_type": "markdown",
   "id": "d3ed2bc3",
   "metadata": {},
   "source": [
    "## 1. Business Problem"
   ]
  },
  {
   "cell_type": "markdown",
   "id": "d2a4423f",
   "metadata": {},
   "source": [
    "- Analyze customer purchase behavior\n",
    "- Understand gender-based differences in Black Friday spending"
   ]
  },
  {
   "cell_type": "markdown",
   "id": "1188a920",
   "metadata": {},
   "source": [
    "## 2. Data Loading and Summary"
   ]
  },
  {
   "cell_type": "code",
   "execution_count": null,
   "id": "2812ed39",
   "metadata": {},
   "outputs": [],
   "source": [
    "```python\n",
    "import pandas as pd\n",
    "import numpy as np\n",
    "import matplotlib.pyplot as plt\n",
    "import seaborn as sns\n",
    "\n",
    "df = pd.read_csv('walmart_data.csv')\n",
    "df.head()\n",
    "df.info()\n",
    "df.describe()\n",
    "```"
   ]
  },
  {
   "cell_type": "markdown",
   "id": "ec05acf8",
   "metadata": {},
   "source": [
    "## 3. Data Cleaning and Profiling"
   ]
  },
  {
   "cell_type": "code",
   "execution_count": null,
   "id": "0f827039",
   "metadata": {},
   "outputs": [],
   "source": [
    "```python\n",
    "# Convert data types\n",
    "df['Gender'] = df['Gender'].astype('category')\n",
    "df['Age'] = df['Age'].astype('category')\n",
    "# Convert 0/1 to labels\n",
    "df['Marital_Status'] = df['Marital_Status'].map({0:'Unmarried', 1:'Married'})\n",
    "```"
   ]
  },
  {
   "cell_type": "markdown",
   "id": "2c0656b6",
   "metadata": {},
   "source": [
    "### 🔍 Observations"
   ]
  },
  {
   "cell_type": "markdown",
   "id": "7803a273",
   "metadata": {},
   "source": [
    "- 550,068 transactions from 5891 users\n",
    "- Male: ~75% of transactions\n",
    "- Age group 26-35 dominates\n",
    "- No missing or duplicate data"
   ]
  },
  {
   "cell_type": "markdown",
   "id": "4c887b55",
   "metadata": {},
   "source": [
    "## 4. Univariate Analysis"
   ]
  },
  {
   "cell_type": "code",
   "execution_count": null,
   "id": "8e17ec2a",
   "metadata": {},
   "outputs": [],
   "source": [
    "```python\n",
    "df['Purchase'].hist(bins=30)\n",
    "plt.title('Purchase Amount Distribution')\n",
    "plt.show()\n",
    "\n",
    "sns.countplot(data=df, x='Gender')\n",
    "plt.show()\n",
    "```"
   ]
  },
  {
   "cell_type": "markdown",
   "id": "16648fe0",
   "metadata": {},
   "source": [
    "## 5. Bivariate Analysis"
   ]
  },
  {
   "cell_type": "code",
   "execution_count": null,
   "id": "90b76c18",
   "metadata": {},
   "outputs": [],
   "source": [
    "```python\n",
    "sns.boxplot(x='Gender', y='Purchase', data=df)\n",
    "plt.title('Gender vs Purchase Amount')\n",
    "plt.show()\n",
    "```"
   ]
  },
  {
   "cell_type": "markdown",
   "id": "538d504e",
   "metadata": {},
   "source": [
    "### 🔍 Insights"
   ]
  },
  {
   "cell_type": "markdown",
   "id": "44b49b21",
   "metadata": {},
   "source": [
    "- Males contribute ~3x more in purchase amount\n",
    "- Males in City C spend the most\n",
    "- Average purchase: Males ($9438), Females ($8735)"
   ]
  },
  {
   "cell_type": "markdown",
   "id": "f54d031b",
   "metadata": {},
   "source": [
    "## 6. Confidence Intervals"
   ]
  },
  {
   "cell_type": "code",
   "execution_count": null,
   "id": "87f0ad5c",
   "metadata": {},
   "outputs": [],
   "source": [
    "```python\n",
    "import scipy.stats as stats\n",
    "sample = df['Purchase'].sample(1000)\n",
    "ci = stats.t.interval(0.95, len(sample)-1, loc=np.mean(sample), scale=stats.sem(sample))\n",
    "print('95% Confidence Interval:', ci)\n",
    "```"
   ]
  },
  {
   "cell_type": "markdown",
   "id": "cc79d9ee",
   "metadata": {},
   "source": [
    "## 7. Recommendations"
   ]
  },
  {
   "cell_type": "markdown",
   "id": "bf3c0089",
   "metadata": {},
   "source": [
    "- Focus more on male customers\n",
    "- Target high spenders (age 51–55)\n",
    "- Create youth and senior-specific marketing campaigns\n",
    "- Invest in City C for higher returns"
   ]
  }
 ],
 "metadata": {},
 "nbformat": 4,
 "nbformat_minor": 5
}
